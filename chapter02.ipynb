{
 "cells": [
  {
   "cell_type": "markdown",
   "metadata": {},
   "source": [
    "# Chapter 2 Advanced HTML Parsing\n",
    "## You Don’t Always Need a Hammer\n",
    "\n",
    "With the help of `find()` and `find_all()` function, you may end up with ugly and unreadable codes like:\n",
    "```py\n",
    "bs.find_all('table')[4].find_all('tr')[2].find('td').find_all('div')[1].find('a')\n",
    "```\n",
    "\n",
    "There are a few options:\n",
    "- Find a better rendered HTML, for example \"print this page\" link or mobile version of the site.\n",
    "- Check the JavaScript file.\n",
    "- Mine information from URL.\n",
    "- Try to use other websites to get the same data.\n",
    "\n",
    "Sometimes we can ask `BeautifulSoup` for help:"
   ]
  },
  {
   "cell_type": "markdown",
   "metadata": {},
   "source": [
    "## Another Serving of BeautifulSoup\n",
    "\n",
    "If the information you need share the same format, for example they have the same `class` tags in HTML, it's easy to use `find_all()` to extract all these data. We use our example page to explain the usage: [http://www.pythonscraping.com/pages/warandpeace.html](http://www.pythonscraping.com/pages/warandpeace.html).\n",
    "\n",
    "First, we parse all contents from HTML (To simplify our codes, we omit the error-handling):"
   ]
  },
  {
   "cell_type": "code",
   "execution_count": 1,
   "metadata": {},
   "outputs": [],
   "source": [
    "from urllib.request import urlopen\n",
    "from bs4 import BeautifulSoup\n",
    "\n",
    "http_res = urlopen(\"http://www.pythonscraping.com/pages/warandpeace.html\")\n",
    "bs = BeautifulSoup(http_res.read(), \"html.parser\")"
   ]
  },
  {
   "cell_type": "markdown",
   "metadata": {},
   "source": [
    "For example, we want to extract all character names (texts in green). Here's a sample of codes you can see using \"inspect\" mode in your browser:\n",
    "\n",
    "```html\n",
    "<span class=\"red\">Heavens! what a virulent attack!</span> replied\n",
    "<span class=\"green\">the prince</span>, not in the least disconcerted by this reception.\n",
    "```"
   ]
  },
  {
   "cell_type": "code",
   "execution_count": 2,
   "metadata": {},
   "outputs": [
    {
     "name": "stdout",
     "output_type": "stream",
     "text": [
      "Anna\n",
      "Pavlovna Scherer\n",
      "Empress Marya\n",
      "Fedorovna\n",
      "Prince Vasili Kuragin\n",
      "Anna Pavlovna\n",
      "St. Petersburg\n"
     ]
    }
   ],
   "source": [
    "name_list = bs.findAll(\"span\", {\"class\": \"green\"})\n",
    "for name in name_list[:5]: # print first 5 names for display purpose\n",
    "    print(name.get_text()) # get plain text without tags"
   ]
  },
  {
   "cell_type": "markdown",
   "metadata": {},
   "source": [
    "Here's the definitions of `find()` and `find_all()` in `BeautifulSoup` documentation:\n",
    "\n",
    "```py\n",
    "find(name, attrs, recursive, string, **kwargs)\n",
    "find_all(name, attrs, recursive, string, limit, **kwargs)\n",
    "```\n",
    "\n",
    "We usually only use `name` and `attrs`. By default, `recursive` is set to `True`."
   ]
  },
  {
   "cell_type": "code",
   "execution_count": 3,
   "metadata": {},
   "outputs": [
    {
     "data": {
      "text/plain": [
       "[<h1>War and Peace</h1>, <h2>Chapter 1</h2>]"
      ]
     },
     "execution_count": 3,
     "metadata": {},
     "output_type": "execute_result"
    }
   ],
   "source": [
    "bs.find_all([\"h1\", \"h2\", \"h3\", \"h4\", \"h5\", \"h6\"])"
   ]
  },
  {
   "cell_type": "code",
   "execution_count": 4,
   "metadata": {},
   "outputs": [
    {
     "name": "stdout",
     "output_type": "stream",
     "text": [
      "7\n"
     ]
    }
   ],
   "source": [
    "prince_occur = bs.find_all(text=\"the prince\")\n",
    "print(len(prince_occur))"
   ]
  },
  {
   "cell_type": "markdown",
   "metadata": {},
   "source": [
    "When parse strctured data on websites, getting to know the data \"family\" is important. Here we use another example page for demo: [http://www.pythonscraping.com/pages/page3.html](http://www.pythonscraping.com/pages/page3.html)."
   ]
  },
  {
   "cell_type": "code",
   "execution_count": 5,
   "metadata": {},
   "outputs": [],
   "source": [
    "http_res = urlopen(\"http://www.pythonscraping.com/pages/page3.html\")\n",
    "bs = BeautifulSoup(http_res.read(), \"html.parser\")"
   ]
  },
  {
   "cell_type": "markdown",
   "metadata": {},
   "source": [
    "**Children** are exactly one tag below a parent, whereas **descendants** can be any level in the tree below a parent."
   ]
  },
  {
   "cell_type": "code",
   "execution_count": 6,
   "metadata": {
    "scrolled": true
   },
   "outputs": [
    {
     "name": "stdout",
     "output_type": "stream",
     "text": [
      "<tr><th>\n",
      "Item Title\n",
      "</th><th>\n",
      "Description\n",
      "</th><th>\n",
      "Cost\n",
      "</th><th>\n",
      "Image\n",
      "</th></tr>\n"
     ]
    }
   ],
   "source": [
    "table_children = list(bs.find('table',{'id':'giftList'}).children)\n",
    "print(table_children[1]) # the first element is a new line character"
   ]
  },
  {
   "cell_type": "code",
   "execution_count": 7,
   "metadata": {},
   "outputs": [
    {
     "name": "stdout",
     "output_type": "stream",
     "text": [
      "13\n"
     ]
    }
   ],
   "source": [
    "print(len(table_children))"
   ]
  },
  {
   "cell_type": "code",
   "execution_count": 8,
   "metadata": {},
   "outputs": [
    {
     "name": "stdout",
     "output_type": "stream",
     "text": [
      "86\n"
     ]
    }
   ],
   "source": [
    "table_descendants = list(bs.find('table',{'id':'giftList'}).descendants)\n",
    "print(len(table_descendants))"
   ]
  },
  {
   "cell_type": "markdown",
   "metadata": {},
   "source": [
    "Similarly, we have **siblings** to collect data from tables. Let's get the header of the table first:"
   ]
  },
  {
   "cell_type": "code",
   "execution_count": 9,
   "metadata": {},
   "outputs": [
    {
     "name": "stdout",
     "output_type": "stream",
     "text": [
      "['Item Title', 'Description', 'Cost', 'Image']\n"
     ]
    }
   ],
   "source": [
    "table_header = bs.find('table',{'id':'giftList'}).tr\n",
    "print([column.get_text().strip() for column in table_header])"
   ]
  },
  {
   "cell_type": "markdown",
   "metadata": {},
   "source": [
    "Here's the first raw in the table. Note that `next_siblings` will return a generator object that doesn't include the object (the header here) itself."
   ]
  },
  {
   "cell_type": "code",
   "execution_count": 10,
   "metadata": {},
   "outputs": [
    {
     "data": {
      "text/plain": [
       "<tr class=\"gift\" id=\"gift1\"><td>\n",
       "Vegetable Basket\n",
       "</td><td>\n",
       "This vegetable basket is the perfect gift for your health conscious (or overweight) friends!\n",
       "<span class=\"excitingNote\">Now with super-colorful bell peppers!</span>\n",
       "</td><td>\n",
       "$15.00\n",
       "</td><td>\n",
       "<img src=\"../img/gifts/img1.jpg\"/>\n",
       "</td></tr>"
      ]
     },
     "execution_count": 10,
     "metadata": {},
     "output_type": "execute_result"
    }
   ],
   "source": [
    "list(table_header.next_siblings)[1]"
   ]
  },
  {
   "cell_type": "markdown",
   "metadata": {},
   "source": [
    "Of course, elements have **parents**. In the following example, we use the information of the picture to get the corresponding price."
   ]
  },
  {
   "cell_type": "code",
   "execution_count": 11,
   "metadata": {},
   "outputs": [
    {
     "name": "stdout",
     "output_type": "stream",
     "text": [
      "$15.00\n"
     ]
    }
   ],
   "source": [
    "print(\n",
    "    bs.find(\"img\", {\"src\": \"../img/gifts/img1.jpg\"})\n",
    "      .parent.previous_sibling.get_text()\n",
    "      .strip()\n",
    ")"
   ]
  },
  {
   "cell_type": "markdown",
   "metadata": {},
   "source": [
    "## Regular Expressions\n",
    "\n",
    "Although we assume you have certain knowledge about regular expressions, let's have a very breif review together:\n",
    "\n",
    "`aaaaa`: five `b`s  \n",
    "`bb*`: at least 1 `a`s  \n",
    "`(cc)*`: any number (including 0) of pairs `cc`  \n",
    "`(d|e)`: `d` or `e`  \n",
    "\n",
    "Table 2-1 in the textbook contains more commonly used Regex symbols."
   ]
  },
  {
   "cell_type": "markdown",
   "metadata": {},
   "source": [
    "Now that we know Regex and image paths have a pattern of \"*../imag/gifts/img*\", we can use Regex to retrieve all image paths. Of course, `BeautifulSoup` supports Regex in all arguments."
   ]
  },
  {
   "cell_type": "code",
   "execution_count": 12,
   "metadata": {},
   "outputs": [
    {
     "name": "stdout",
     "output_type": "stream",
     "text": [
      "../img/gifts/img1.jpg\n",
      "../img/gifts/img2.jpg\n",
      "../img/gifts/img3.jpg\n",
      "../img/gifts/img4.jpg\n",
      "../img/gifts/img6.jpg\n"
     ]
    }
   ],
   "source": [
    "import re\n",
    "\n",
    "images = bs.find_all(\"img\", \n",
    "                     {\"src\": re.compile(\n",
    "                         \"\\.\\.\\/img\\/gifts/img.*\\.jpg\") # '\\' is escape character\n",
    "                     })\n",
    "for image in images:\n",
    "    print(image[\"src\"])"
   ]
  },
  {
   "cell_type": "markdown",
   "metadata": {},
   "source": [
    "## Accessing Attributes\n",
    "\n",
    "In the example above, you may notice that we print `image[\"src\"]` instead of `image` because we want paths only. That's how we access the `src` attribute. It's clear if we print one of `images`."
   ]
  },
  {
   "cell_type": "code",
   "execution_count": 13,
   "metadata": {},
   "outputs": [
    {
     "name": "stdout",
     "output_type": "stream",
     "text": [
      "<img src=\"../img/gifts/img1.jpg\"/>\n"
     ]
    }
   ],
   "source": [
    "print(images[0])"
   ]
  },
  {
   "cell_type": "markdown",
   "metadata": {},
   "source": [
    "## Lambda Expressions\n",
    "\n",
    "It's fine if you are not familiar with lambda expressions (or anonymous functions). We have this part to let you know that `BeautifulSoup` supports lambda expressions as well. Besides, it helps you to understand or even write fancy codes."
   ]
  },
  {
   "cell_type": "markdown",
   "metadata": {},
   "source": [
    "The following example finds all tags that have exactly two attributes. For example, the logo has `src` and `style` attributes."
   ]
  },
  {
   "cell_type": "code",
   "execution_count": 14,
   "metadata": {},
   "outputs": [
    {
     "name": "stdout",
     "output_type": "stream",
     "text": [
      "6\n"
     ]
    }
   ],
   "source": [
    "tag_2_attrs = bs.find_all(lambda tag: len(tag.attrs) == 2)\n",
    "print(len(tag_2_attrs))"
   ]
  },
  {
   "cell_type": "code",
   "execution_count": 15,
   "metadata": {},
   "outputs": [
    {
     "name": "stdout",
     "output_type": "stream",
     "text": [
      "<img src=\"../img/gifts/logo.jpg\" style=\"float:left;\"/>\n"
     ]
    }
   ],
   "source": [
    "print(tag_2_attrs[0])"
   ]
  },
  {
   "cell_type": "markdown",
   "metadata": {},
   "source": [
    "The following two snippets have the same functionality. The second one uses lambda expressions."
   ]
  },
  {
   "cell_type": "code",
   "execution_count": 16,
   "metadata": {},
   "outputs": [
    {
     "data": {
      "text/plain": [
       "[\"Or maybe he's only resting?\"]"
      ]
     },
     "execution_count": 16,
     "metadata": {},
     "output_type": "execute_result"
    }
   ],
   "source": [
    "bs.find_all(\"\", text=\"Or maybe he\\'s only resting?\")"
   ]
  },
  {
   "cell_type": "code",
   "execution_count": 17,
   "metadata": {},
   "outputs": [
    {
     "data": {
      "text/plain": [
       "[<span class=\"excitingNote\">Or maybe he's only resting?</span>]"
      ]
     },
     "execution_count": 17,
     "metadata": {},
     "output_type": "execute_result"
    }
   ],
   "source": [
    "bs.find_all(lambda tag: tag.get_text() == \"Or maybe he\\'s only resting?\")"
   ]
  }
 ],
 "metadata": {
  "kernelspec": {
   "display_name": "Python 3",
   "language": "python",
   "name": "python3"
  },
  "language_info": {
   "codemirror_mode": {
    "name": "ipython",
    "version": 3
   },
   "file_extension": ".py",
   "mimetype": "text/x-python",
   "name": "python",
   "nbconvert_exporter": "python",
   "pygments_lexer": "ipython3",
   "version": "3.7.3"
  }
 },
 "nbformat": 4,
 "nbformat_minor": 2
}
