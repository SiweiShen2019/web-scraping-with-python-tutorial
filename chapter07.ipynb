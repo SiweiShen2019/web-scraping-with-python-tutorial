{
 "cells": [
  {
   "cell_type": "markdown",
   "metadata": {},
   "source": [
    "# Chapter 7 Reading Documents\n",
    "\n",
    "## Text\n",
    "\n",
    "Have you ever wondered how `BeautifulSoup` read a text file from website? Let's see the example of [http://www.pythonscraping.com/pages/warandpeace/chapter1.txt](http://www.pythonscraping.com/pages/warandpeace/chapter1.txt):"
   ]
  },
  {
   "cell_type": "code",
   "execution_count": 1,
   "metadata": {},
   "outputs": [],
   "source": [
    "from bs4 import BeautifulSoup"
   ]
  },
  {
   "cell_type": "code",
   "execution_count": 2,
   "metadata": {},
   "outputs": [
    {
     "name": "stdout",
     "output_type": "stream",
     "text": [
      "b'CHAPTER I\\n\\n\"Well, Prince, so Genoa and Lucca are now just family estates of theBuonapartes. But I wa'\n"
     ]
    }
   ],
   "source": [
    "from urllib.request import urlopen\n",
    "textPage = urlopen(\"http://www.pythonscraping.com/pages/warandpeace/chapter1.txt\")\n",
    "result = textPage.read()\n",
    "print(result[:100]) # first 100 characters"
   ]
  },
  {
   "cell_type": "markdown",
   "metadata": {},
   "source": [
    "Well, not too bad. The `b` at the beginning of the output means Python is printint out binary strings. One easy way to convert to normal string is to call `decode()`."
   ]
  },
  {
   "cell_type": "code",
   "execution_count": 3,
   "metadata": {
    "scrolled": true
   },
   "outputs": [
    {
     "name": "stdout",
     "output_type": "stream",
     "text": [
      "CHAPTER I\n",
      "\n",
      "\"Well, Prince, so Genoa and Lucca are now just family estates of theBuonapartes. But I wa\n"
     ]
    }
   ],
   "source": [
    "print(result.decode(\"ascii\")[:100]) # first 100 characters"
   ]
  },
  {
   "cell_type": "markdown",
   "metadata": {},
   "source": [
    "However, not all languages can be smoothly \"printed\". In other words, we need different decoder."
   ]
  },
  {
   "cell_type": "code",
   "execution_count": 4,
   "metadata": {},
   "outputs": [
    {
     "name": "stdout",
     "output_type": "stream",
     "text": [
      "b'\\xd0\\xa7\\xd0\\x90\\xd0\\xa1\\xd0\\xa2\\xd0\\xac \\xd0\\x9f\\xd0\\x95\\xd0\\xa0\\xd0\\x92\\xd0\\x90\\xd0\\xaf\\n\\nI\\n\\n\\xe2\\x80\\x94 Eh bien, mon prince. G\\xc3\\xaanes et Lucques ne sont plus que des apanages'\n"
     ]
    }
   ],
   "source": [
    "textPage = urlopen(\n",
    "    'http://www.pythonscraping.com/pages/warandpeace/chapter1-ru.txt')\n",
    "result = textPage.read()\n",
    "print(result[:100])"
   ]
  },
  {
   "cell_type": "code",
   "execution_count": 5,
   "metadata": {},
   "outputs": [
    {
     "name": "stdout",
     "output_type": "stream",
     "text": [
      "ЧАСТЬ ПЕРВАЯ\n",
      "\n",
      "I\n",
      "\n",
      "— Eh bien, mon prince. Gênes et Lucques ne sont plus que des apanages, des поместья\n"
     ]
    }
   ],
   "source": [
    "print(result.decode(\"utf-8\")[:100])"
   ]
  },
  {
   "cell_type": "markdown",
   "metadata": {},
   "source": [
    "## CSV\n",
    "\n",
    "In the textbook, we use built-in Python library to read CSV files from web pages."
   ]
  },
  {
   "cell_type": "code",
   "execution_count": 6,
   "metadata": {},
   "outputs": [
    {
     "name": "stdout",
     "output_type": "stream",
     "text": [
      "['Name', 'Year']\n",
      "[\"Monty Python's Flying Circus\", '1970']\n",
      "['Another Monty Python Record', '1971']\n",
      "[\"Monty Python's Previous Record\", '1972']\n",
      "['The Monty Python Matching Tie and Handkerchief', '1973']\n",
      "['Monty Python Live at Drury Lane', '1974']\n",
      "['An Album of the Soundtrack of the Trailer of the Film of Monty Python and the Holy Grail', '1975']\n",
      "['Monty Python Live at City Center', '1977']\n",
      "['The Monty Python Instant Record Collection', '1977']\n",
      "[\"Monty Python's Life of Brian\", '1979']\n",
      "[\"Monty Python's Cotractual Obligation Album\", '1980']\n",
      "[\"Monty Python's The Meaning of Life\", '1983']\n",
      "['The Final Rip Off', '1987']\n",
      "['Monty Python Sings', '1989']\n",
      "['The Ultimate Monty Python Rip Off', '1994']\n",
      "['Monty Python Sings Again', '2014']\n"
     ]
    }
   ],
   "source": [
    "from urllib.request import urlopen\n",
    "from io import StringIO\n",
    "import csv\n",
    "\n",
    "data = (urlopen('http://pythonscraping.com/files/MontyPythonAlbums.csv')\n",
    "        .read().decode('ascii', 'ignore'))\n",
    "dataFile = StringIO(data)\n",
    "csvReader = csv.reader(dataFile)\n",
    "\n",
    "for row in list(csvReader):\n",
    "    print(row)"
   ]
  },
  {
   "cell_type": "markdown",
   "metadata": {},
   "source": [
    "But a better and modern way to process CSV files on websites is to use `pandas`. It's a one-liner."
   ]
  },
  {
   "cell_type": "code",
   "execution_count": 7,
   "metadata": {},
   "outputs": [
    {
     "data": {
      "text/html": [
       "<div>\n",
       "<style scoped>\n",
       "    .dataframe tbody tr th:only-of-type {\n",
       "        vertical-align: middle;\n",
       "    }\n",
       "\n",
       "    .dataframe tbody tr th {\n",
       "        vertical-align: top;\n",
       "    }\n",
       "\n",
       "    .dataframe thead th {\n",
       "        text-align: right;\n",
       "    }\n",
       "</style>\n",
       "<table border=\"1\" class=\"dataframe\">\n",
       "  <thead>\n",
       "    <tr style=\"text-align: right;\">\n",
       "      <th></th>\n",
       "      <th>Name</th>\n",
       "      <th>Year</th>\n",
       "    </tr>\n",
       "  </thead>\n",
       "  <tbody>\n",
       "    <tr>\n",
       "      <th>0</th>\n",
       "      <td>Monty Python's Flying Circus</td>\n",
       "      <td>1970</td>\n",
       "    </tr>\n",
       "    <tr>\n",
       "      <th>1</th>\n",
       "      <td>Another Monty Python Record</td>\n",
       "      <td>1971</td>\n",
       "    </tr>\n",
       "    <tr>\n",
       "      <th>2</th>\n",
       "      <td>Monty Python's Previous Record</td>\n",
       "      <td>1972</td>\n",
       "    </tr>\n",
       "    <tr>\n",
       "      <th>3</th>\n",
       "      <td>The Monty Python Matching Tie and Handkerchief</td>\n",
       "      <td>1973</td>\n",
       "    </tr>\n",
       "    <tr>\n",
       "      <th>4</th>\n",
       "      <td>Monty Python Live at Drury Lane</td>\n",
       "      <td>1974</td>\n",
       "    </tr>\n",
       "    <tr>\n",
       "      <th>5</th>\n",
       "      <td>An Album of the Soundtrack of the Trailer of t...</td>\n",
       "      <td>1975</td>\n",
       "    </tr>\n",
       "    <tr>\n",
       "      <th>6</th>\n",
       "      <td>Monty Python Live at City Center</td>\n",
       "      <td>1977</td>\n",
       "    </tr>\n",
       "    <tr>\n",
       "      <th>7</th>\n",
       "      <td>The Monty Python Instant Record Collection</td>\n",
       "      <td>1977</td>\n",
       "    </tr>\n",
       "    <tr>\n",
       "      <th>8</th>\n",
       "      <td>Monty Python's Life of Brian</td>\n",
       "      <td>1979</td>\n",
       "    </tr>\n",
       "    <tr>\n",
       "      <th>9</th>\n",
       "      <td>Monty Python's Cotractual Obligation Album</td>\n",
       "      <td>1980</td>\n",
       "    </tr>\n",
       "    <tr>\n",
       "      <th>10</th>\n",
       "      <td>Monty Python's The Meaning of Life</td>\n",
       "      <td>1983</td>\n",
       "    </tr>\n",
       "    <tr>\n",
       "      <th>11</th>\n",
       "      <td>The Final Rip Off</td>\n",
       "      <td>1987</td>\n",
       "    </tr>\n",
       "    <tr>\n",
       "      <th>12</th>\n",
       "      <td>Monty Python Sings</td>\n",
       "      <td>1989</td>\n",
       "    </tr>\n",
       "    <tr>\n",
       "      <th>13</th>\n",
       "      <td>The Ultimate Monty Python Rip Off</td>\n",
       "      <td>1994</td>\n",
       "    </tr>\n",
       "    <tr>\n",
       "      <th>14</th>\n",
       "      <td>Monty Python Sings Again</td>\n",
       "      <td>2014</td>\n",
       "    </tr>\n",
       "  </tbody>\n",
       "</table>\n",
       "</div>"
      ],
      "text/plain": [
       "                                                 Name  Year\n",
       "0                        Monty Python's Flying Circus  1970\n",
       "1                         Another Monty Python Record  1971\n",
       "2                      Monty Python's Previous Record  1972\n",
       "3      The Monty Python Matching Tie and Handkerchief  1973\n",
       "4                     Monty Python Live at Drury Lane  1974\n",
       "5   An Album of the Soundtrack of the Trailer of t...  1975\n",
       "6                    Monty Python Live at City Center  1977\n",
       "7          The Monty Python Instant Record Collection  1977\n",
       "8                        Monty Python's Life of Brian  1979\n",
       "9          Monty Python's Cotractual Obligation Album  1980\n",
       "10                 Monty Python's The Meaning of Life  1983\n",
       "11                                  The Final Rip Off  1987\n",
       "12                                 Monty Python Sings  1989\n",
       "13                  The Ultimate Monty Python Rip Off  1994\n",
       "14                           Monty Python Sings Again  2014"
      ]
     },
     "execution_count": 7,
     "metadata": {},
     "output_type": "execute_result"
    }
   ],
   "source": [
    "import pandas as pd\n",
    "\n",
    "df = pd.read_csv(\"http://pythonscraping.com/files/MontyPythonAlbums.csv\")\n",
    "df"
   ]
  },
  {
   "cell_type": "markdown",
   "metadata": {},
   "source": [
    "It's easy to convert CSV files into `dict` using `csv` library."
   ]
  },
  {
   "cell_type": "code",
   "execution_count": 8,
   "metadata": {},
   "outputs": [
    {
     "name": "stdout",
     "output_type": "stream",
     "text": [
      "['Name', 'Year']\n",
      "OrderedDict([('Name', \"Monty Python's Flying Circus\"), ('Year', '1970')])\n",
      "OrderedDict([('Name', 'Another Monty Python Record'), ('Year', '1971')])\n",
      "OrderedDict([('Name', \"Monty Python's Previous Record\"), ('Year', '1972')])\n",
      "OrderedDict([('Name', 'The Monty Python Matching Tie and Handkerchief'), ('Year', '1973')])\n",
      "OrderedDict([('Name', 'Monty Python Live at Drury Lane'), ('Year', '1974')])\n",
      "OrderedDict([('Name', 'An Album of the Soundtrack of the Trailer of the Film of Monty Python and the Holy Grail'), ('Year', '1975')])\n",
      "OrderedDict([('Name', 'Monty Python Live at City Center'), ('Year', '1977')])\n",
      "OrderedDict([('Name', 'The Monty Python Instant Record Collection'), ('Year', '1977')])\n",
      "OrderedDict([('Name', \"Monty Python's Life of Brian\"), ('Year', '1979')])\n",
      "OrderedDict([('Name', \"Monty Python's Cotractual Obligation Album\"), ('Year', '1980')])\n",
      "OrderedDict([('Name', \"Monty Python's The Meaning of Life\"), ('Year', '1983')])\n",
      "OrderedDict([('Name', 'The Final Rip Off'), ('Year', '1987')])\n",
      "OrderedDict([('Name', 'Monty Python Sings'), ('Year', '1989')])\n",
      "OrderedDict([('Name', 'The Ultimate Monty Python Rip Off'), ('Year', '1994')])\n",
      "OrderedDict([('Name', 'Monty Python Sings Again'), ('Year', '2014')])\n"
     ]
    }
   ],
   "source": [
    "data = (urlopen('http://pythonscraping.com/files/MontyPythonAlbums.csv')\n",
    "        .read().decode('ascii', 'ignore'))\n",
    "dataFile = StringIO(data)\n",
    "dictReader = csv.DictReader(dataFile)\n",
    "print(dictReader.fieldnames)\n",
    "\n",
    "list_dict = list(dictReader)\n",
    "for row in list_dict:\n",
    "    print(row)"
   ]
  },
  {
   "cell_type": "markdown",
   "metadata": {},
   "source": [
    "Here is an example how to use `list_dict`. Basically, there are a list of independent `OrderedDict` in `list_dict`, each of which has two keys \"Name\" and \"Year\"."
   ]
  },
  {
   "cell_type": "code",
   "execution_count": 9,
   "metadata": {},
   "outputs": [
    {
     "data": {
      "text/plain": [
       "\"Monty Python's Flying Circus\""
      ]
     },
     "execution_count": 9,
     "metadata": {},
     "output_type": "execute_result"
    }
   ],
   "source": [
    "list_dict[0].get(\"Name\")"
   ]
  },
  {
   "cell_type": "markdown",
   "metadata": {},
   "source": [
    "Again, it's easier to use `pandas` to create a \"records\"-style dictionary. Note that, each of `pd_list_dict` is a Python `dict` rather than `OrderedDict`. Therefore, `list_dict` $\\ne$ `pd_list_dict`."
   ]
  },
  {
   "cell_type": "code",
   "execution_count": 10,
   "metadata": {},
   "outputs": [
    {
     "data": {
      "text/plain": [
       "[{'Name': \"Monty Python's Flying Circus\", 'Year': 1970},\n",
       " {'Name': 'Another Monty Python Record', 'Year': 1971},\n",
       " {'Name': \"Monty Python's Previous Record\", 'Year': 1972},\n",
       " {'Name': 'The Monty Python Matching Tie and Handkerchief', 'Year': 1973},\n",
       " {'Name': 'Monty Python Live at Drury Lane', 'Year': 1974},\n",
       " {'Name': 'An Album of the Soundtrack of the Trailer of the Film of Monty Python and the Holy Grail',\n",
       "  'Year': 1975},\n",
       " {'Name': 'Monty Python Live at City Center', 'Year': 1977},\n",
       " {'Name': 'The Monty Python Instant Record Collection', 'Year': 1977},\n",
       " {'Name': \"Monty Python's Life of Brian\", 'Year': 1979},\n",
       " {'Name': \"Monty Python's Cotractual Obligation Album\", 'Year': 1980},\n",
       " {'Name': \"Monty Python's The Meaning of Life\", 'Year': 1983},\n",
       " {'Name': 'The Final Rip Off', 'Year': 1987},\n",
       " {'Name': 'Monty Python Sings', 'Year': 1989},\n",
       " {'Name': 'The Ultimate Monty Python Rip Off', 'Year': 1994},\n",
       " {'Name': 'Monty Python Sings Again', 'Year': 2014}]"
      ]
     },
     "execution_count": 10,
     "metadata": {},
     "output_type": "execute_result"
    }
   ],
   "source": [
    "pd_list_dict = df.to_dict(\"records\")\n",
    "pd_list_dict"
   ]
  }
 ],
 "metadata": {
  "kernelspec": {
   "display_name": "Python 3",
   "language": "python",
   "name": "python3"
  },
  "language_info": {
   "codemirror_mode": {
    "name": "ipython",
    "version": 3
   },
   "file_extension": ".py",
   "mimetype": "text/x-python",
   "name": "python",
   "nbconvert_exporter": "python",
   "pygments_lexer": "ipython3",
   "version": "3.7.3"
  }
 },
 "nbformat": 4,
 "nbformat_minor": 2
}
